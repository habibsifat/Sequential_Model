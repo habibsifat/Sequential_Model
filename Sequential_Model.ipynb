{
  "nbformat": 4,
  "nbformat_minor": 0,
  "metadata": {
    "colab": {
      "name": "Sequential_Model.ipynb",
      "provenance": [],
      "collapsed_sections": []
    },
    "kernelspec": {
      "name": "python3",
      "display_name": "Python 3"
    }
  },
  "cells": [
    {
      "cell_type": "code",
      "metadata": {
        "id": "fnxEGCZ4SAPJ",
        "colab_type": "code",
        "colab": {}
      },
      "source": [
        "from keras.layers.core import Dense, Activation, Dropout\n",
        "from keras.layers.recurrent import LSTM\n",
        "from keras.layers.embeddings import Embedding\n",
        "from keras.models import Sequential"
      ],
      "execution_count": 0,
      "outputs": []
    },
    {
      "cell_type": "code",
      "metadata": {
        "id": "zD7s1wDAR4_8",
        "colab_type": "code",
        "colab": {
          "base_uri": "https://localhost:8080/",
          "height": 399
        },
        "outputId": "dfb7bd28-a797-4258-8edd-1dfd06f35e68"
      },
      "source": [
        "model = Sequential()\n",
        "model.add(Dense(32, activation='relu', input_dim=100))\n",
        "model.add(Dense(1, activation='sigmoid'))\n",
        "model.compile(optimizer='rmsprop',\n",
        "              loss='binary_crossentropy',\n",
        "              metrics=['accuracy'])\n",
        "\n",
        "# Generate dummy data\n",
        "import numpy as np\n",
        "data = np.random.random((1000, 100))\n",
        "labels = np.random.randint(2, size=(1000, 1))\n",
        "\n",
        "# Train the model, iterating on the data in batches of 32 samples\n",
        "model.fit(data, labels, epochs=10, batch_size=32)"
      ],
      "execution_count": 5,
      "outputs": [
        {
          "output_type": "stream",
          "text": [
            "Epoch 1/10\n",
            "1000/1000 [==============================] - 0s 223us/step - loss: 0.7199 - acc: 0.4670\n",
            "Epoch 2/10\n",
            "1000/1000 [==============================] - 0s 44us/step - loss: 0.7034 - acc: 0.5020\n",
            "Epoch 3/10\n",
            "1000/1000 [==============================] - 0s 39us/step - loss: 0.6928 - acc: 0.5220\n",
            "Epoch 4/10\n",
            "1000/1000 [==============================] - 0s 41us/step - loss: 0.6898 - acc: 0.5200\n",
            "Epoch 5/10\n",
            "1000/1000 [==============================] - 0s 45us/step - loss: 0.6830 - acc: 0.5500\n",
            "Epoch 6/10\n",
            "1000/1000 [==============================] - 0s 44us/step - loss: 0.6803 - acc: 0.5630\n",
            "Epoch 7/10\n",
            "1000/1000 [==============================] - 0s 42us/step - loss: 0.6746 - acc: 0.5830\n",
            "Epoch 8/10\n",
            "1000/1000 [==============================] - 0s 50us/step - loss: 0.6738 - acc: 0.5620\n",
            "Epoch 9/10\n",
            "1000/1000 [==============================] - 0s 45us/step - loss: 0.6661 - acc: 0.5790\n",
            "Epoch 10/10\n",
            "1000/1000 [==============================] - 0s 44us/step - loss: 0.6648 - acc: 0.5940\n"
          ],
          "name": "stdout"
        },
        {
          "output_type": "execute_result",
          "data": {
            "text/plain": [
              "<keras.callbacks.History at 0x7f9386975e48>"
            ]
          },
          "metadata": {
            "tags": []
          },
          "execution_count": 5
        }
      ]
    },
    {
      "cell_type": "code",
      "metadata": {
        "id": "QHVdN7FpTViQ",
        "colab_type": "code",
        "colab": {}
      },
      "source": [
        ""
      ],
      "execution_count": 0,
      "outputs": []
    }
  ]
}